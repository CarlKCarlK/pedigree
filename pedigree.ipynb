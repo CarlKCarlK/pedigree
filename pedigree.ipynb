{
 "cells": [
  {
   "cell_type": "code",
   "execution_count": 1,
   "metadata": {},
   "outputs": [
    {
     "data": {
      "text/plain": [
       "['fid1 iid1 1', 'fid2 iid2 2', 'fid3 iid3 3', 'fid4 iid4 4', 'fid5 iid5 5']"
      ]
     },
     "execution_count": 1,
     "metadata": {},
     "output_type": "execute_result"
    }
   ],
   "source": [
    "from pathlib import Path\n",
    "\n",
    "# For a relatively small iid count, create sample inpput files.\n",
    "\n",
    "iid_count = 1_000\n",
    "\n",
    "root = Path(r'm:\\projects\\pedigree')\n",
    "\n",
    "id_file = root / f'test_sp_{iid_count}.grm.id'\n",
    "id_file.parent.mkdir(parents=True, exist_ok=True)\n",
    "\n",
    "index_to_id = [f\"fid{i+1} iid{i+1} {i+1}\" for i in range(iid_count)]\n",
    "\n",
    "if not id_file.exists():\n",
    "    with open(id_file, 'w') as f:\n",
    "        for i in range(iid_count):\n",
    "            f.write(f\"{index_to_id[i]}\\n\")\n",
    "\n",
    "index_to_id[:5]\n"
   ]
  },
  {
   "cell_type": "code",
   "execution_count": 2,
   "metadata": {},
   "outputs": [
    {
     "data": {
      "text/plain": [
       "array([[1.        , 0.56663475, 0.36093343, 0.70173945, 0.31661688],\n",
       "       [0.56663475, 1.        , 0.51142044, 0.38745994, 0.38127421],\n",
       "       [0.36093343, 0.51142044, 1.        , 0.85326691, 0.23566139],\n",
       "       [0.70173945, 0.38745994, 0.85326691, 1.        , 0.15716772],\n",
       "       [0.31661688, 0.38127421, 0.23566139, 0.15716772, 1.        ]])"
      ]
     },
     "execution_count": 2,
     "metadata": {},
     "output_type": "execute_result"
    }
   ],
   "source": [
    "# make a random iid_count x iid_count matrix with values between 0 and 1. It should be symmetric. Values on the diagonal should be 1.\n",
    "import numpy as np\n",
    "\n",
    "# create a random matrix of size iid_count x iid_count\n",
    "sp = np.random.rand(iid_count, iid_count)/2\n",
    "\n",
    "# make the matrix symmetric\n",
    "sp = sp + sp.T - np.diag(sp.diagonal())\n",
    "np.fill_diagonal(sp, 1)\n",
    "\n",
    "sp[:5, :5]"
   ]
  },
  {
   "cell_type": "code",
   "execution_count": null,
   "metadata": {},
   "outputs": [],
   "source": [
    "sp_file = root / f'test_sp_{iid_count}.grm.sp'\n",
    "\n",
    "if not sp_file.exists():\n",
    "    with open(sp_file, 'w') as f:\n",
    "        for i in range(1,iid_count+1):\n",
    "            for j in range(1,iid_count+1):\n"
   ]
  },
  {
   "cell_type": "code",
   "execution_count": null,
   "metadata": {},
   "outputs": [],
   "source": []
  }
 ],
 "metadata": {
  "kernelspec": {
   "display_name": "Python 3",
   "language": "python",
   "name": "python3"
  },
  "language_info": {
   "codemirror_mode": {
    "name": "ipython",
    "version": 3
   },
   "file_extension": ".py",
   "mimetype": "text/x-python",
   "name": "python",
   "nbconvert_exporter": "python",
   "pygments_lexer": "ipython3",
   "version": "3.9.16"
  },
  "orig_nbformat": 4
 },
 "nbformat": 4,
 "nbformat_minor": 2
}
