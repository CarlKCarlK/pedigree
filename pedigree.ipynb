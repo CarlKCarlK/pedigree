{
 "cells": [
  {
   "cell_type": "code",
   "execution_count": 24,
   "metadata": {},
   "outputs": [
    {
     "data": {
      "text/plain": [
       "['fid1 iid1 1', 'fid2 iid2 2', 'fid3 iid3 3', 'fid4 iid4 4', 'fid5 iid5 5']"
      ]
     },
     "execution_count": 24,
     "metadata": {},
     "output_type": "execute_result"
    }
   ],
   "source": [
    "from pathlib import Path\n",
    "import logging\n",
    "\n",
    "# set logging level to info\n",
    "logging.basicConfig(level=logging.INFO)\n",
    "\n",
    "# For a relatively small iid count, create sample inpput files.\n",
    "\n",
    "iid_count = 10_000\n",
    "\n",
    "root = Path(r'm:\\projects\\pedigree')\n",
    "\n",
    "id_file = root / f'test_sp_{iid_count}.grm.id'\n",
    "id_file.parent.mkdir(parents=True, exist_ok=True)\n",
    "\n",
    "index_to_id = [f\"fid{i+1} iid{i+1} {i+1}\" for i in range(iid_count)]\n",
    "\n",
    "if not id_file.exists():\n",
    "    with open(id_file, 'w') as f:\n",
    "        for i in range(iid_count):\n",
    "            f.write(f\"{index_to_id[i]}\\n\")\n",
    "\n",
    "index_to_id[:5]\n"
   ]
  },
  {
   "cell_type": "code",
   "execution_count": 17,
   "metadata": {},
   "outputs": [
    {
     "data": {
      "text/plain": [
       "array([[1.        , 0.41889681, 0.49668756, 0.278465  , 0.43328766],\n",
       "       [0.41889681, 1.        , 0.62663821, 0.71354034, 0.43765316],\n",
       "       [0.49668756, 0.62663821, 1.        , 0.63003756, 0.61090471],\n",
       "       [0.278465  , 0.71354034, 0.63003756, 1.        , 0.17183549],\n",
       "       [0.43328766, 0.43765316, 0.61090471, 0.17183549, 1.        ]])"
      ]
     },
     "execution_count": 17,
     "metadata": {},
     "output_type": "execute_result"
    }
   ],
   "source": [
    "# make a random iid_count x iid_count matrix with values between 0 and 1. It should be symmetric. Values on the diagonal should be 1.\n",
    "import numpy as np\n",
    "\n",
    "rng = np.random.default_rng(seed=0)\n",
    "\n",
    "# create a random matrix of size iid_count x iid_count\n",
    "sp = rng.random((iid_count, iid_count))/2\n",
    "\n",
    "# make the matrix symmetric\n",
    "sp = sp + sp.T - np.diag(sp.diagonal())\n",
    "np.fill_diagonal(sp, 1)\n",
    "\n",
    "sp[:5, :5]"
   ]
  },
  {
   "cell_type": "code",
   "execution_count": 28,
   "metadata": {},
   "outputs": [
    {
     "name": "stderr",
     "output_type": "stream",
     "text": [
      "INFO:root:0 of 10_000\n",
      "INFO:root:1_000 of 10_000\n",
      "INFO:root:2_000 of 10_000\n",
      "INFO:root:3_000 of 10_000\n",
      "INFO:root:4_000 of 10_000\n",
      "INFO:root:5_000 of 10_000\n",
      "INFO:root:6_000 of 10_000\n",
      "INFO:root:7_000 of 10_000\n",
      "INFO:root:8_000 of 10_000\n",
      "INFO:root:9_000 of 10_000\n"
     ]
    }
   ],
   "source": [
    "sp_file = root / f'test_sp_{iid_count}.grm.sp'\n",
    "\n",
    "if not sp_file.exists():\n",
    "    with open(sp_file, 'w') as f:\n",
    "        for i in range(iid_count):\n",
    "            if i % 1000 == 0:\n",
    "                logging.info(f\"{i:_} of {iid_count:_}\")\n",
    "            for j in range(i, iid_count): # cmk ok to assume sp is symmetric?\n",
    "               # print just 3 digits after the decimal point\n",
    "               f.write(f\"{i} {j} {sp[i,j]:.3f}\\n\")"
   ]
  },
  {
   "cell_type": "code",
   "execution_count": 32,
   "metadata": {},
   "outputs": [
    {
     "name": "stderr",
     "output_type": "stream",
     "text": [
      "INFO:root:Read 10000 ids from m:\\projects\\pedigree\\test_sp_10000.grm.id\n",
      "INFO:root:0 of 50_000_000\n",
      "INFO:root:1_000_000 of 50_000_000\n",
      "INFO:root:2_000_000 of 50_000_000\n",
      "INFO:root:3_000_000 of 50_000_000\n",
      "INFO:root:4_000_000 of 50_000_000\n",
      "INFO:root:5_000_000 of 50_000_000\n",
      "INFO:root:6_000_000 of 50_000_000\n",
      "INFO:root:7_000_000 of 50_000_000\n",
      "INFO:root:8_000_000 of 50_000_000\n",
      "INFO:root:9_000_000 of 50_000_000\n",
      "INFO:root:10_000_000 of 50_000_000\n",
      "INFO:root:11_000_000 of 50_000_000\n",
      "INFO:root:12_000_000 of 50_000_000\n",
      "INFO:root:13_000_000 of 50_000_000\n",
      "INFO:root:14_000_000 of 50_000_000\n",
      "INFO:root:15_000_000 of 50_000_000\n",
      "INFO:root:16_000_000 of 50_000_000\n",
      "INFO:root:17_000_000 of 50_000_000\n",
      "INFO:root:18_000_000 of 50_000_000\n",
      "INFO:root:19_000_000 of 50_000_000\n",
      "INFO:root:20_000_000 of 50_000_000\n",
      "INFO:root:21_000_000 of 50_000_000\n",
      "INFO:root:22_000_000 of 50_000_000\n",
      "INFO:root:23_000_000 of 50_000_000\n",
      "INFO:root:24_000_000 of 50_000_000\n",
      "INFO:root:25_000_000 of 50_000_000\n",
      "INFO:root:26_000_000 of 50_000_000\n",
      "INFO:root:27_000_000 of 50_000_000\n",
      "INFO:root:28_000_000 of 50_000_000\n",
      "INFO:root:29_000_000 of 50_000_000\n",
      "INFO:root:30_000_000 of 50_000_000\n",
      "INFO:root:31_000_000 of 50_000_000\n",
      "INFO:root:32_000_000 of 50_000_000\n",
      "INFO:root:33_000_000 of 50_000_000\n",
      "INFO:root:34_000_000 of 50_000_000\n",
      "INFO:root:35_000_000 of 50_000_000\n",
      "INFO:root:36_000_000 of 50_000_000\n",
      "INFO:root:37_000_000 of 50_000_000\n",
      "INFO:root:38_000_000 of 50_000_000\n",
      "INFO:root:39_000_000 of 50_000_000\n",
      "INFO:root:40_000_000 of 50_000_000\n",
      "INFO:root:41_000_000 of 50_000_000\n",
      "INFO:root:42_000_000 of 50_000_000\n",
      "INFO:root:43_000_000 of 50_000_000\n",
      "INFO:root:44_000_000 of 50_000_000\n",
      "INFO:root:45_000_000 of 50_000_000\n",
      "INFO:root:46_000_000 of 50_000_000\n",
      "INFO:root:47_000_000 of 50_000_000\n",
      "INFO:root:48_000_000 of 50_000_000\n",
      "INFO:root:49_000_000 of 50_000_000\n",
      "INFO:root:50_000_000 of 50_000_000\n"
     ]
    },
    {
     "data": {
      "text/plain": [
       "array([[1.   , 0.419, 0.497, 0.278, 0.433],\n",
       "       [0.419, 1.   , 0.627, 0.714, 0.438],\n",
       "       [0.497, 0.627, 1.   , 0.63 , 0.611],\n",
       "       [0.278, 0.714, 0.63 , 1.   , 0.172],\n",
       "       [0.433, 0.438, 0.611, 0.172, 1.   ]])"
      ]
     },
     "execution_count": 32,
     "metadata": {},
     "output_type": "execute_result"
    }
   ],
   "source": [
    "# Create an in-memory kernel data object from the id and sp files.\n",
    "from pysnptools.kernelreader import KernelData, KernelNpz\n",
    "\n",
    "def read_grm(sp_file, save=False):\n",
    "    sp_file = Path(sp_file)\n",
    "    id_file = sp_file.with_suffix('.id')\n",
    "    previous_sort = -1\n",
    "    iid_list = []\n",
    "    with open(id_file, 'r') as f:\n",
    "        for line in f:\n",
    "            fid, iid, sorter = line.split()\n",
    "            sorter = int(sorter)\n",
    "            assert sorter > previous_sort, \"The .id file must be sorted by sort column\"\n",
    "            previous_sort = sorter\n",
    "            iid_list.append([fid, iid])\n",
    "    logging.info(f\"Read {len(iid_list)} ids from {id_file}\")\n",
    "\n",
    "    val = np.zeros((len(iid_list), len(iid_list)))\n",
    "\n",
    "    with open(sp_file, 'r') as f:\n",
    "        for line_index, line in enumerate(f):\n",
    "            if line_index % 1_000_000 == 0:\n",
    "                logging.info(f\"{line_index:_} of {int(iid_count*iid_count/2):_}\")\n",
    "            i, j, value = line.split()\n",
    "            i = int(i)\n",
    "            j = int(j)\n",
    "            value = float(value)\n",
    "            val[i, j] = value\n",
    "            val[j, i] = value\n",
    "\n",
    "    kernel_data = KernelData(iid=iid_list, val=val)\n",
    "    if save:\n",
    "        KernelNpz.write(str(sp_file.with_suffix('.kernel.npz')), kernel_data)\n",
    "    return kernel_data\n",
    "\n",
    "    \n",
    "\n",
    "kd = read_grm(root / f'test_sp_{iid_count}.grm.sp', save=True)\n",
    "kd.val[:5, :5]\n",
    "\n"
   ]
  },
  {
   "cell_type": "code",
   "execution_count": 33,
   "metadata": {},
   "outputs": [
    {
     "data": {
      "text/plain": [
       "array([[1.   , 0.419, 0.497, 0.278, 0.433],\n",
       "       [0.419, 1.   , 0.627, 0.714, 0.438],\n",
       "       [0.497, 0.627, 1.   , 0.63 , 0.611],\n",
       "       [0.278, 0.714, 0.63 , 1.   , 0.172],\n",
       "       [0.433, 0.438, 0.611, 0.172, 1.   ]])"
      ]
     },
     "execution_count": 33,
     "metadata": {},
     "output_type": "execute_result"
    }
   ],
   "source": [
    "kr2 = KernelNpz(root / f'test_sp_{iid_count}.grm.kernel.npz').read()\n",
    "kr2.val[:5, :5]"
   ]
  },
  {
   "cell_type": "code",
   "execution_count": null,
   "metadata": {},
   "outputs": [],
   "source": []
  }
 ],
 "metadata": {
  "kernelspec": {
   "display_name": "Python 3",
   "language": "python",
   "name": "python3"
  },
  "language_info": {
   "codemirror_mode": {
    "name": "ipython",
    "version": 3
   },
   "file_extension": ".py",
   "mimetype": "text/x-python",
   "name": "python",
   "nbconvert_exporter": "python",
   "pygments_lexer": "ipython3",
   "version": "3.9.16"
  },
  "orig_nbformat": 4
 },
 "nbformat": 4,
 "nbformat_minor": 2
}
